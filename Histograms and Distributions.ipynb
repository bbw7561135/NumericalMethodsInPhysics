{
 "metadata": {
  "name": "",
  "signature": "sha256:6930132361835f9c936b90001881e0b504451a1913c5a6aea5fb7b3ee7fb7029"
 },
 "nbformat": 3,
 "nbformat_minor": 0,
 "worksheets": [
  {
   "cells": [
    {
     "cell_type": "heading",
     "level": 1,
     "metadata": {},
     "source": [
      "PHAS2441 Session 2: \n",
      "Histograms and normal distributions"
     ]
    },
    {
     "cell_type": "markdown",
     "metadata": {},
     "source": [
      "<div class=\"alert alert-success\"> <p>*  **Intended learning outcomes:** * </p>\n",
      "By the end of this session, you should be able to:\n",
      "<ul>\n",
      "<li> Use Python to generate and plot a histogram; </li>\n",
      "<li> Determine whether or not the data fits well to a normal distribution </li>\n",
      "<li> Be able to determine a suitable bin size for a histogram </li>\n",
      "</div>\n",
      "\n",
      "The task this session is a \"fill-in-the-blanks\" style task. This notebook will guide you through what you need to do, and at various points you will find empty code cells that you need to complete in order to proceed.\n",
      "\n",
      "Rename this notebook so that the title contains your name; when you have completed the task you will upload this notebook to Moodle."
     ]
    },
    {
     "cell_type": "markdown",
     "metadata": {},
     "source": [
      "## Getting started: Importing the data\n",
      "\n",
      "The first thing we need to do is import the modules we will need. In this case we'll be using numpy and matplotlib.pyplot. We'll also tell the notebook to produce all the plots inside the notebook for convenience."
     ]
    },
    {
     "cell_type": "code",
     "collapsed": false,
     "input": [
      "import numpy as np\n",
      "import matplotlib.pyplot as plt\n",
      "\n",
      "# The following line makes all plot output generate as images within the notebook. \n",
      "%matplotlib inline"
     ],
     "language": "python",
     "metadata": {},
     "outputs": [],
     "prompt_number": 5
    },
    {
     "cell_type": "markdown",
     "metadata": {},
     "source": [
      "We're going to import some data from a text file into an array using numpy's loadtxt function. Make sure you've downloaded the file \"sampledata.txt\" from Moodle, and that it is saved in the *same directory as this notebook*. \n",
      "\n",
      "The file contains a single column of numbers representing the results of a series of measurements of the same quantity. Use `np.loadtxt` to import the contents of the file into an array called \"data\". To check that the file has imported correctly, output the array, and also the number of data points. \n",
      "\n",
      "Do this in the cell below:"
     ]
    },
    {
     "cell_type": "code",
     "collapsed": true,
     "input": [
      "### STUDENT GENERATED CELL ###\n",
      "#import modules used within the code\n",
      "import numpy as np\n",
      "import matplotlib.pyplot as plt\n",
      "#The following line makes all plot output generate as images within the notebook. \n",
      "%matplotlib inline\n",
      "\n",
      "#load the data from the file into an array\n",
      "data = np.array(np.loadtxt('sampledata.txt'))\n",
      "#print the data, mean of the data and the number of data points\n",
      "print data\n",
      "print \"The mean of the data is \", np.mean(data)\n",
      "print \"The number of data points\", len(data)\n",
      "\n",
      "#Plot the data as a histogram, \"alpha\" changes the transparency of the bars\n",
      "plt.hist(data,bins=15,normed=\"True\",alpha=0.25)\n",
      "plt.xlabel(\"value\")\n",
      "plt.ylabel(\"number of occurences\")"
     ],
     "language": "python",
     "metadata": {},
     "outputs": [
      {
       "output_type": "stream",
       "stream": "stdout",
       "text": [
        "[  9.08784134  10.10662555  10.6043289    8.14670094  11.21532998\n",
        "  10.09371284  10.4268221    9.512998     8.62930223   7.48937559\n",
        "  10.65366662  10.82957068   8.78448663  10.9601158    9.90659032\n",
        "   9.1582816   10.44614588   8.83495279  11.08507526  10.74786111\n",
        "  10.3768063    9.94925924  10.98840191   8.1845716   11.11626203\n",
        "   9.93193642   8.24589252   9.60070141   9.59625026   8.75870124\n",
        "  10.26599281  10.03072825   9.17414148  10.95249503   9.81645277\n",
        "   7.87208683   9.59434022   9.22794451   8.60092591  11.04193271\n",
        "  10.55787516   9.75736188   9.96894073  10.35909125   9.08197603\n",
        "   9.60704288  11.83643996  10.65500473   9.55931389  11.79449148\n",
        "  11.52681481  11.22729724  10.86988402   9.84875052  10.05911294\n",
        "  10.2443348    9.78448166  10.18996261   8.85726152  11.40313014\n",
        "   9.30652172  10.15578731  10.89652947   9.37932207   9.60507078\n",
        "  10.38731808   8.91990775   9.15388917  10.91798911   8.96221918\n",
        "   8.03327801  10.45508301   7.76131074  10.03609924   9.5262954\n",
        "   9.14885299  10.25739095   9.89103726   8.63909939  10.36168981\n",
        "   9.92134822  10.00209711  11.06602412   9.17257793   7.25066343\n",
        "   9.75819394   8.52292597   9.08856809  12.13310501   9.16599369\n",
        "  10.47481169   8.68589274  11.39767888   7.23139564  10.22082339\n",
        "  10.85858957   9.02998136   9.1931196   11.05677999   8.61044022\n",
        "   9.72707314  10.66158371   9.98138327   9.76819569   8.59089994\n",
        "   9.47901814   8.70295197   9.9723197    8.43654124  10.70739149\n",
        "  11.11369917   8.86722039  10.02505222   9.61825119   9.07832045\n",
        "  10.06955468   8.95318402   9.38621313   9.69641951  11.68926419\n",
        "   7.74509703   9.96463282  10.27387245   9.53082381   9.95404257\n",
        "   9.68079423   8.22025163  11.00902527   9.72291147  10.03757659\n",
        "   8.57351232  10.17739452  10.01597132  10.27634568   9.73394122\n",
        "  10.73220636  10.04174952   8.06068171   8.64769232  10.00346573\n",
        "   9.79971677  10.0470256   10.48942726   9.46076225  10.3038003\n",
        "   9.43335282  11.28746388   9.33637492  10.02775196  10.00213892]\n",
        "The mean of the data is  9.79322812277\n",
        "The number of data points 150\n"
       ]
      },
      {
       "metadata": {},
       "output_type": "pyout",
       "prompt_number": 6,
       "text": [
        "<matplotlib.text.Text at 0x14e94160>"
       ]
      },
      {
       "metadata": {},
       "output_type": "display_data",
       "png": "[encoded data removed]",
       "text": [
        "<matplotlib.figure.Figure at 0x133f12b0>"
       ]
      }
     ],
     "prompt_number": 6
    },
    {
     "cell_type": "markdown",
     "metadata": {},
     "source": [
      "If you've successfully imported the data, you should be able to see that the average value is around 10. We can easily calculate the average:"
     ]
    },
    {
     "cell_type": "markdown",
     "metadata": {},
     "source": [
      "### Creating a histogram\n",
      "\n",
      "In theory, because our data is a set of repeated measurements of the same quantity, the distribution of the values should follow a Gaussian (normal) distribution, i.e. when we plot a histogram of the data, its shape should fit\n",
      "\n",
      "$$ f(x) = \\frac{1}{\\sigma \\sqrt{2\\pi}} \\exp \\left[-\\frac{(x-\\bar{x})^2}{2\\sigma^2}\\right], $$\n",
      "where $\\bar{x}$ is the mean value of the data, and $\\sigma$ the standard deviation.\n",
      "\n",
      "To see if this is true, we'll first plot the data as a histogram. We'll use the `plt.hist` function to automatically sort the data into bins and plot the resulting histogram:"
     ]
    },
    {
     "cell_type": "code",
     "collapsed": false,
     "input": [
      "plt.hist(data)\n",
      "plt.xlabel(\"value\")\n",
      "plt.ylabel(\"number of occurences\")"
     ],
     "language": "python",
     "metadata": {},
     "outputs": [
      {
       "metadata": {},
       "output_type": "pyout",
       "prompt_number": 7,
       "text": [
        "<matplotlib.text.Text at 0x14e94828>"
       ]
      },
      {
       "metadata": {},
       "output_type": "display_data",
       "png": "[encoded data removed]",
       "text": [
        "<matplotlib.figure.Figure at 0x14eebe48>"
       ]
      }
     ],
     "prompt_number": 7
    },
    {
     "cell_type": "markdown",
     "metadata": {},
     "source": [
      "By default, the matplotlib hist command puts the data into 10 bins. You can see all the possible options in the documentation http://matplotlib.org/api/pyplot_api.html?highlight=hist#matplotlib.pyplot.hist, but in general the only things you're likely to need to change are:\n",
      "* The number of bins.\n",
      "* Whether or not the histogram is normalised (normed) - in this case the integral of the histogram will be equal to 1.\n",
      "\n",
      "For example, this will sort the data into 15 bins, and normalize the histogram:"
     ]
    },
    {
     "cell_type": "code",
     "collapsed": true,
     "input": [
      "plt.hist(data,bins=15,normed=\"True\",alpha=0.25)\n",
      "plt.xlabel(\"value\")\n",
      "plt.ylabel(\"normalised occurences\")"
     ],
     "language": "python",
     "metadata": {},
     "outputs": [
      {
       "metadata": {},
       "output_type": "pyout",
       "prompt_number": 8,
       "text": [
        "<matplotlib.text.Text at 0x14d09c50>"
       ]
      },
      {
       "metadata": {},
       "output_type": "display_data",
       "png": "[encoded data removed]",
       "text": [
        "<matplotlib.figure.Figure at 0x14301048>"
       ]
      }
     ],
     "prompt_number": 8
    },
    {
     "cell_type": "markdown",
     "metadata": {},
     "source": [
      "### How well does this fit to a Gaussian?\n",
      "\n",
      "Our data looks as though it may be roughly Gaussian. How can we check this?\n",
      "\n",
      "We'll use another python module: scipy.stats, to find out. (Documentation link: http://docs.scipy.org/doc/scipy-0.14.0/reference/stats.html)"
     ]
    },
    {
     "cell_type": "code",
     "collapsed": false,
     "input": [
      "import scipy.stats as stats"
     ],
     "language": "python",
     "metadata": {},
     "outputs": []
    },
    {
     "cell_type": "markdown",
     "metadata": {},
     "source": [
      "Specifically, we'll use norm.fit to fit the data that we used in the histogram to a Gaussian, and give us the two parameters $\\bar{x}$ and $\\sigma$."
     ]
    },
    {
     "cell_type": "code",
     "collapsed": false,
     "input": [
      "x0, sigma = stats.norm.fit(data)\n",
      "print \"Fitted Gaussian: \\n Mean value \", x0, \"with standard deviation\", sigma"
     ],
     "language": "python",
     "metadata": {},
     "outputs": [
      {
       "output_type": "stream",
       "stream": "stdout",
       "text": [
        "Fitted Gaussian: \n",
        " Mean value  9.79322812277 with standard deviation 0.974322178751\n"
       ]
      }
     ],
     "prompt_number": 9
    },
    {
     "cell_type": "markdown",
     "metadata": {},
     "source": [
      "We can see that we obtain the same mean as we got before from np.mean.\n",
      "\n",
      "Now we want to plot the fitted Gaussian on top of the histogram to see how good the fit is. In the cell below, write a suitably-named function that will return a Gaussian \n",
      "$$y = \\frac{1}{\\sigma \\sqrt{2\\pi}} \\exp \\left[-\\frac{(x-\\bar{x})^2}{2\\sigma^2}\\right], $$\n",
      "for an input $x, \\bar{x}$, and $\\sigma$.\n"
     ]
    },
    {
     "cell_type": "code",
     "collapsed": false,
     "input": [
      "### STUDENT GENERATED CELL ### \n",
      "#importing modules to be used within the code\n",
      "import scipy.stats as stats\n",
      "\n",
      "#Find the mean and standard deviation of the data using norm.fit\n",
      "x0, sigma = stats.norm.fit(data)\n",
      "print \"Fitted Gaussian: \\n Mean value \", x0, \"with standard deviation\", sigma\n",
      "\n",
      "#define a function\n",
      "def gaussian_fn(x,x0,sigma):\n",
      "    #doc string to help with the function\n",
      "    \"\"\"Returns a gaussian distriibution for the input x, x0 and sigma\"\"\"\n",
      "    \n",
      "    #define the relationship used within the function\n",
      "    y=((sigma*np.sqrt(2*np.pi))**(-1))*np.exp(-((x-x0)**2)/(2*sigma**2))\n",
      "    \n",
      "    return y"
     ],
     "language": "python",
     "metadata": {},
     "outputs": [
      {
       "output_type": "stream",
       "stream": "stdout",
       "text": [
        "Fitted Gaussian: \n",
        " Mean value  9.79322812277 with standard deviation 0.974322178751\n"
       ]
      }
     ],
     "prompt_number": 18
    },
    {
     "cell_type": "markdown",
     "metadata": {},
     "source": [
      "Now complete the cell below to create two arrays named `x` and `y`:\n",
      "1. use np.linspace to create an array of 100 x-values for the fitted line starting at 7 and finishing at 13\n",
      "2. Use your function to create a corresponding array of y-values with a Gaussian form.\n"
     ]
    },
    {
     "cell_type": "code",
     "collapsed": false,
     "input": [
      "### STUDENT GENERATED CELL ### \n",
      "#generate an array of x values using linspace\n",
      "x=np.linspace(7,13,100)\n",
      "#define y from the generated function above and generate an array for y\n",
      "y = gaussian_fn(x,x0,sigma)\n",
      "y1=np.array(y)\n",
      "#plot the function\n",
      "plt.plot(x,y1)"
     ],
     "language": "python",
     "metadata": {},
     "outputs": [
      {
       "metadata": {},
       "output_type": "pyout",
       "prompt_number": 11,
       "text": [
        "[<matplotlib.lines.Line2D at 0x1546eb00>]"
       ]
      },
      {
       "metadata": {},
       "output_type": "display_data",
       "png": "[encoded data removed]",
       "text": [
        "<matplotlib.figure.Figure at 0x142bcf98>"
       ]
      }
     ],
     "prompt_number": 11
    },
    {
     "cell_type": "markdown",
     "metadata": {},
     "source": [
      "The following cell will replot the (normalised) histogram, a blue line from your generated x and y, and another (red) line."
     ]
    },
    {
     "cell_type": "code",
     "collapsed": false,
     "input": [
      "gaussian = stats.norm.pdf(x,x0,sigma)\n",
      "plt.hist(data, normed=True,alpha=0.1)\n",
      "plt.plot(x,y,'b-', label='Gaussian')\n",
      "plt.plot(x,gaussian,'r-.', label=\"stats.norm.pdf\")\n",
      "plt.legend()\n",
      "plt.xlabel('measured value')\n",
      "plt.ylabel('normalised frequency')\n",
      "title_label=(r'Line fitted with Gaussian $x_0$ = {0:3.2e}, $\\sigma$ = {1:3.2e}'.format(x0,sigma))\n",
      "plt.title(title_label)\n"
     ],
     "language": "python",
     "metadata": {},
     "outputs": [
      {
       "metadata": {},
       "output_type": "pyout",
       "prompt_number": 12,
       "text": [
        "<matplotlib.text.Text at 0x15614d30>"
       ]
      },
      {
       "metadata": {},
       "output_type": "display_data",
       "png": "[encoded data removed]",
       "text": [
        "<matplotlib.figure.Figure at 0x1551e080>"
       ]
      }
     ],
     "prompt_number": 12
    },
    {
     "cell_type": "markdown",
     "metadata": {},
     "source": [
      "If you've done this correctly, you should find that the red dashed line matches *exactly* with your calculated line (the solid blue line). If it doesn't, go back and correct your code until it does!\n",
      "\n",
      "Let's look at how the red line was generated - it uses the stats.norm.pdf function, which generates the probability density function (\"pdf\"), i.e. a Gaussian, for the given values of x0 and sigma. It's probably easier to use than generating your own Gaussian, so in future you can use this if you wish.\n",
      "\n",
      "(Note also \n",
      "1. the extra option \"alpha=0.25\" in the hist function - this makes the histogram bars transparent, which makes the graph look a lot more visually clear when you're plotting lines on top of a histogram.\n",
      "2. The title of the graph includes the fitted parameters by using a Python `.format`. This is often useful to be able to do, so feel free to copy and paste this formatting to other plots if you want.\n",
      ")"
     ]
    },
    {
     "cell_type": "markdown",
     "metadata": {},
     "source": [
      "### More data = a better fit?\n",
      "\n",
      "We only have 150 data points at the moment. To give you an idea of how data distributions become more Gaussian as the data set size increases, we're going to generate some \"fake\" data so we can easily change the number of data points. \n",
      "\n",
      "The numpy function \"random\" will generate random numbers with a normal distribution for us."
     ]
    },
    {
     "cell_type": "code",
     "collapsed": false,
     "input": [
      "npoints = 10000 # the number of data points we want\n",
      "mean_x = 10 # roughly the same as the data set above\n",
      "stdev = 1 # roughly the same as the data set above\n",
      "\n",
      "# Our fake data set. Don't do this in a lab course!\n",
      "new_data = np.random.normal(mean_x,stdev,npoints)"
     ],
     "language": "python",
     "metadata": {},
     "outputs": [],
     "prompt_number": 13
    },
    {
     "cell_type": "markdown",
     "metadata": {},
     "source": [
      "In the cell below, \n",
      "1. Use stats.norm.fit to find the actual mean and standard deviation of new_data. Are these exactly equal to 10 and 1?\n",
      "2. Use stats.norm.pdf to generate a set of y values (use the existing set of x values, if you want)\n",
      "3. Plot a histogram of the data, with the fitted line on top (just as above).\n",
      "4. Experiment with the number of points, `npoints` in the cell above.\n",
      "4. Experiment with the number of bins. Does more bins always equal a better fit?\n",
      "5. Use a text cell (and additional code cells if you wish) to explain your results."
     ]
    },
    {
     "cell_type": "code",
     "collapsed": false,
     "input": [
      "### STUDENT GENERATED CELL ###\n",
      "#import relevant modules\n",
      "import scipy.stats as stats\n",
      "import numpy as np\n",
      "import matplotlib.pyplot as plt\n",
      "\n",
      "npoints = 1000000 # the number of data points we want\n",
      "mean_x = 10 # roughly the same as the data set above\n",
      "stdev = 1 # roughly the same as the data set above\n",
      "\n",
      "# Our fake data set.\n",
      "new_data = np.random.normal(mean_x,stdev,npoints)\n",
      "\n",
      "#use stats.norm.fit to find the mean and standard deviation of new_data\n",
      "xmean, xstdev = stats.norm.fit(new_data)\n",
      "print \"Mean of the new data is\", xmean, \"and the standard deviation of the new data is\", xstdev\n",
      "\n",
      "#use stats.norm.pdf to generate set of y values from new_data, mean and standard deviation\n",
      "y_new  =stats.norm.pdf(new_data, xmean, xstdev)\n",
      "#plot a histogram with the the fitted line ontop and the Gaussian curve\n",
      "plt.hist(new_data, bins= 10000, normed=True, alpha=0.25)\n",
      "gaussian = stats.norm.pdf(x,x0,sigma)\n",
      "plt.plot(x,y,'b-', label='Gaussian')\n",
      "plt.plot(x,gaussian,'r-.', label=\"stats.norm.pdf\")\n",
      "#Show the legend, add x,y labels and title\n",
      "plt.legend()\n",
      "plt.xlabel('measured value')\n",
      "plt.ylabel('normalised frequency')\n",
      "title_label=(r'Line fitted with Gaussian $x_0$ = {0:3.2e}, $\\sigma$ = {1:3.2e}'.format(x0,sigma))\n",
      "plt.title(title_label)"
     ],
     "language": "python",
     "metadata": {},
     "outputs": [
      {
       "output_type": "stream",
       "stream": "stdout",
       "text": [
        "Mean of the new data is 9.99921315831 and the standard deviation of the new data is 1.00103576573\n"
       ]
      },
      {
       "metadata": {},
       "output_type": "pyout",
       "prompt_number": 25,
       "text": [
        "<matplotlib.text.Text at 0x35a8d8d0>"
       ]
      },
      {
       "metadata": {},
       "output_type": "display_data",
       "png": "[encoded data removed]",
       "text": [
        "<matplotlib.figure.Figure at 0x35141dd8>"
       ]
      }
     ],
     "prompt_number": 25
    },
    {
     "cell_type": "markdown",
     "metadata": {},
     "source": [
      "### When will I need to use this?\n",
      "\n",
      "Fitting a histogram to a Gaussian is particularly useful when you've fitted some data and want to check how good the fit is. If a fit models the data well, we'd expect the distribution of the *residuals* to be Gaussian. \n",
      "\n",
      "<div class=\"alert alert-success\"> **Residual**: the (vertical) distance between the data point and the fitted line - we looked at this when we were doing least squares fits in PHAS1240. </div>\n",
      "\n",
      "This is fairly intuitive. For a good fit, we'd expect roughly as many data points above our fitted line as below, and for most of the data points to be close to the line, with fewer further away.\n",
      "\n",
      "In sessions 3 and 4, we'll be fitting data to functions, and then using the distribution of the residuals to consider *quantitatively* how well a function fits to our data. "
     ]
    },
    {
     "cell_type": "markdown",
     "metadata": {},
     "source": [
      "Increasing the number of points increases the precision of the fit\n",
      "\n",
      "Increasing the number of bins also increases the precision of the fit. as long as the number of points is increased as well. This works up to a certain limit where the bars of the histogram no longer produce a well defined curve."
     ]
    }
   ],
   "metadata": {}
  }
 ]
}