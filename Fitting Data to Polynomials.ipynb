{
 "metadata": {
  "name": "",
  "signature": "sha256:f9104346d30a27774736dee10ae6f60314386c499fa087c865ed10b322b2a6ae"
 },
 "nbformat": 3,
 "nbformat_minor": 0,
 "worksheets": [
  {
   "cells": [
    {
     "cell_type": "markdown",
     "metadata": {},
     "source": [
      "# Session 3: Fitting polynomials"
     ]
    },
    {
     "cell_type": "markdown",
     "metadata": {},
     "source": [
      "<div class=\"alert alert-success\"> <p>*  **Intended learning outcomes:** * </p>\n",
      "By the end of this session, you should be able to:\n",
      "<ul>\n",
      "<li> Use Python to fit a set of data to a polynomial; </li>\n",
      "<li> To evaluate the goodness of fit using the matrix of covariance and Chi^2</li>\n",
      "<li> Fit the residuals to a Gaussian. </li>\n",
      "</div>"
     ]
    },
    {
     "cell_type": "markdown",
     "metadata": {},
     "source": [
      "## Why fit to a polynomial?\n",
      "\n",
      "In physics we often meet an experimental relation between variables which is difficult to describe mathematically. This may either be because the theoretical equation which describes the observed behaviour is difficult to solve, or because the situation is complicated by several ill-defined factors and it is difficult to derive any theoretical equation which can describe it properly. However, we can still measure the dependence between the variables experimentally and we would like to have some means of predicting this dependence. In this kind of situation it is convenient to fit an equation to our experimental data. We can then use the fitted equation to interpolate, i.e. to calculate the expected value of a variable between our measured data points, and to extrapolate, i.e. to calculate the expected value beyond the range of our measured data points. This procedure is often called \u201cparameterizing\u201d the relationship.\n",
      "\n",
      "In principle we could use any form of equation to fit a set of measured data, but if we have no theoretical basis for fitting a particular type of curve it is often simplest and easiest to fit a polynomial. The order of the polynomial and the coefficients of each term in the fitted equation are called the \u201cparameters\u201d of our fit.\n",
      "\n",
      "In this session we will look at how to fit polynomials with NumPy, using experiment E5 as an example. If you are taking PHAS2441 you will be doing this experiment yourself in the second half of term. The experiment involves calibrating a temperature sensor by measuring its output voltage over a range of temperature. A polynomial equation is then fitted to the experimental results and this\n",
      "calibration equation is later input into a programmable chip so that the sensor can operate as a digital thermometer."
     ]
    },
    {
     "cell_type": "heading",
     "level": 2,
     "metadata": {},
     "source": [
      "Using NumPy to fit a polynomial to a dataset"
     ]
    },
    {
     "cell_type": "markdown",
     "metadata": {},
     "source": [
      "The first thing we need to do is import the modules we'll need. Enter these in the code cell below"
     ]
    },
    {
     "cell_type": "code",
     "collapsed": false,
     "input": [
      "### STUDENT GENERATED CELL ###\n",
      "#import modules used within the code\n",
      "import numpy as np\n",
      "import matplotlib.pyplot as plt\n",
      "#The following line makes all plot output generate as images within the notebook. \n",
      "%matplotlib inline"
     ],
     "language": "python",
     "metadata": {},
     "outputs": [],
     "prompt_number": 1
    },
    {
     "cell_type": "markdown",
     "metadata": {},
     "source": [
      "Now we should load our data file, which is called \"studentdataE5.txt\". This data file contains two columns, the first is the temperature in Celsius, the second the measured voltage (V). In the cell below,\n",
      "\n",
      "* Load the data file using np.loadtxt, and unpack it into two arrays called `temp` and `voltage`.\n",
      "* Plot it on a (labelled!) graph, using data points"
     ]
    },
    {
     "cell_type": "code",
     "collapsed": false,
     "input": [
      "### STUDENT GENERATED CELL ###\n",
      "#load the data from the file into an array\n",
      "temp, voltage = np.loadtxt('studentdataE5.txt', unpack=True)\n",
      "#Plot data onto a labelled graph using data points, add title\n",
      "plt.plot(temp,voltage, '-bo')\n",
      "plt.xlabel(\"Temperature ($^oC$)\")\n",
      "plt.ylabel(\"Voltage (V)\")\n",
      "plt.title('Plot showing Temperature against Voltage')"
     ],
     "language": "python",
     "metadata": {},
     "outputs": [
      {
       "metadata": {},
       "output_type": "pyout",
       "prompt_number": 2,
       "text": [
        "<matplotlib.text.Text at 0xb19be10>"
       ]
      },
      {
       "metadata": {},
       "output_type": "display_data",
       "png": "[encoded data removed]",
       "text": [
        "<matplotlib.figure.Figure at 0xb022208>"
       ]
      }
     ],
     "prompt_number": 2
    },
    {
     "cell_type": "markdown",
     "metadata": {},
     "source": [
      "### Numpy's polyfit function(s)\n",
      "\n",
      "Fortunately, we can get numpy to do all the hard work of fitting for us, by using the * **polyfit** * function. The documentation for this is here: http://docs.scipy.org/doc/numpy/reference/generated/numpy.polyfit.html - have a quick look at this before proceeding.\n",
      "\n",
      "The cell below shows an example usage of np.polyfit. To run it, change \"temp\" and \"voltage\" to whatever you are using as the relevant variable names."
     ]
    },
    {
     "cell_type": "code",
     "collapsed": false,
     "input": [
      "degree = 2 # degree of polynomial we want to fit to\n",
      "#using the polyfit function to find the coefficients of the fitted polynomial\n",
      "p = np.polyfit(temp,voltage,degree)\n",
      "print \"The fitted polynomial coefficients are\", p"
     ],
     "language": "python",
     "metadata": {},
     "outputs": [
      {
       "output_type": "stream",
       "stream": "stdout",
       "text": [
        "The fitted polynomial coefficients are [  1.06532357e-04  -3.15934839e-02   2.21148238e+00]\n"
       ]
      }
     ],
     "prompt_number": 3
    },
    {
     "cell_type": "markdown",
     "metadata": {},
     "source": [
      "** * IMPORTANT NOTE: * ** Numpy actually has two versions of polyfit. numpy.polyfit, and  numpy.polynomial.polynomial.polyfit. They are almost identical, and are used in the same way. But look at the one crucial difference:"
     ]
    },
    {
     "cell_type": "code",
     "collapsed": false,
     "input": [
      "p = np.polyfit(temp,voltage,degree)\n",
      "print \"np.polyfit returns the coefficients as\", p\n",
      "pp = np.polynomial.polynomial.polyfit(temp,voltage,degree)\n",
      "print \"np.polynomial.polynomial.polyfit returns the coefficients as\", pp"
     ],
     "language": "python",
     "metadata": {},
     "outputs": [
      {
       "output_type": "stream",
       "stream": "stdout",
       "text": [
        "np.polyfit returns the coefficients as [  1.06532357e-04  -3.15934839e-02   2.21148238e+00]\n",
        "np.polynomial.polynomial.polyfit returns the coefficients as [  2.21148238e+00  -3.15934839e-02   1.06532357e-04]\n"
       ]
      }
     ],
     "prompt_number": 4
    },
    {
     "cell_type": "markdown",
     "metadata": {},
     "source": [
      "numpy.polyfit (our np.polyfit) returns the coefficients with the highest power first, but numpy.polynomial.polynomial.polyfit returns the lowest power first. This is daft.\n",
      "  \n",
      "However, it is an important reminder of *why* we import our modules with named abbreviations - it makes it clear which version of which module function we're using!"
     ]
    },
    {
     "cell_type": "markdown",
     "metadata": {},
     "source": [
      "### Plotting fitted polynomials\n",
      "\n",
      "Now we have our polynomial coefficients, we probably now want to plot this polynomial to see how good the fit is. We could construct an expresssion for this from the elements of p, but there's a much easier way to do this with the numpy function poly1d (http://docs.scipy.org/doc/numpy/reference/generated/numpy.poly1d.html ), which will convert the array of polynomial coefficients $p$ into a function that we can call to generate the value of the polynomial for a given value of $x$. The following code cell does this by using np.poly1d to create a function called \"line\": NB: here \"line\" is a *function*, not a *variable*."
     ]
    },
    {
     "cell_type": "code",
     "collapsed": false,
     "input": [
      "line = np.poly1d(p)\n",
      "type(line) # what type of object is line?"
     ],
     "language": "python",
     "metadata": {},
     "outputs": [
      {
       "metadata": {},
       "output_type": "pyout",
       "prompt_number": 5,
       "text": [
        "numpy.lib.polynomial.poly1d"
       ]
      }
     ],
     "prompt_number": 5
    },
    {
     "cell_type": "markdown",
     "metadata": {},
     "source": [
      "Now you need to:\n",
      "\n",
      "* Generate an array of x-values to fit the data to\n",
      "* Use the \"line\" function we just created to generate a corresponding array of y-values.\n",
      "* Plot the original data (as points) and the fitted line (as a line) on a labelled graph."
     ]
    },
    {
     "cell_type": "code",
     "collapsed": false,
     "input": [
      "### STUDENT GENERATED CELL ###\n",
      "\n",
      "#using the line function we created above to generate an array of y-values\n",
      "y=line(temp)\n",
      "#plot both the original data (data points) and the fitted line on the same graph\n",
      "plt.plot(temp,voltage, '-bo', label='Data points')\n",
      "plt.plot(temp,y, 'r', label='Fitted line')\n",
      "#Add labels and legend\n",
      "plt.xlabel(\"Temperature ($^oC$)\")\n",
      "plt.ylabel(\"Voltage (V)\")\n",
      "plt.title('Plot showing Temperature against Voltage')\n",
      "plt.legend()"
     ],
     "language": "python",
     "metadata": {},
     "outputs": [
      {
       "metadata": {},
       "output_type": "pyout",
       "prompt_number": 6,
       "text": [
        "<matplotlib.legend.Legend at 0xb7e4cf8>"
       ]
      },
      {
       "metadata": {},
       "output_type": "display_data",
       "png": "[encoded data removed]",
       "text": [
        "<matplotlib.figure.Figure at 0xb4db6a0>"
       ]
      }
     ],
     "prompt_number": 6
    },
    {
     "cell_type": "markdown",
     "metadata": {},
     "source": [
      "At first glance, this second-order polynomial looks okayish (or it should do if you've done it right!) - but with definite room for improvement.\n",
      "\n",
      "But how good is the fit really?"
     ]
    },
    {
     "cell_type": "markdown",
     "metadata": {},
     "source": [
      "## Goodness of fit (1) - calculating the errors on the coefficients and the matrix of covariance."
     ]
    },
    {
     "cell_type": "markdown",
     "metadata": {},
     "source": [
      "We'll recalculate, this time with an important addition to the polyfit call - we'll ask it to also calculate the matrix of covariance."
     ]
    },
    {
     "cell_type": "code",
     "collapsed": false,
     "input": [
      "degree = 2 # degree of polynomial we want to fit to\n",
      "#using the polyfit function to find the coefficients of the polynomial and calculate the matrix of covariance\n",
      "p, v = np.polyfit(temp,voltage,degree,cov=True)\n",
      "print \"The fitted polynomial coefficients are\", p\n",
      "print \"The matrix of covariance is\", v"
     ],
     "language": "python",
     "metadata": {},
     "outputs": [
      {
       "output_type": "stream",
       "stream": "stdout",
       "text": [
        "The fitted polynomial coefficients are [  1.06532357e-04  -3.15934839e-02   2.21148238e+00]\n",
        "The matrix of covariance is [[  1.19249271e-10  -1.01361881e-08   1.55024053e-07]\n",
        " [ -1.01361881e-08   9.09657291e-07  -1.52205000e-05]\n",
        " [  1.55024053e-07  -1.52205000e-05   3.12719289e-04]]\n"
       ]
      }
     ],
     "prompt_number": 7
    },
    {
     "cell_type": "markdown",
     "metadata": {},
     "source": [
      "#### What is the matrix of covariance?\n",
      "\n",
      "**The quick answer:** The matrix of covariance allows us to calculate the errors on our fitted parameters. For $n$ parameters, the matrix of covariance is an $n \\times n$ matrix, whose diagonal elements are the *square* of the uncertainties of the fitted parameters. The off-diagonal elements give the level of correlation between the uncertainties in the parameters - we won't use them here.\n",
      "\n",
      "**The long (and more complete answer)** is given in sections 7.2-7.4 of [Hughes and Hase](https://www.dawsonera.com/guard/protected/dawson.jsp?name=https://shib-idp.ucl.ac.uk/shibboleth&dest=http://www.dawsonera.com/depp/reader/protected/external/AbstractView/S9780191576560).\n",
      "\n",
      "We can use np.diag to create a 1d-array of the diagonal elements of the matrix of covariance (http://docs.scipy.org/doc/numpy/reference/generated/numpy.diag.html )\n",
      "\n",
      "In the cell below, output the order of each coefficient, the corresponding coefficient and its error, with appropriate text strings:\n",
      "\n",
      "(*Hints:*\n",
      "1. *This is most easily done using a loop over the elements of p*\n",
      "2. *We can use np.diag to create a 1d-array of the diagonal elements of the matrix of covariance (http://docs.scipy.org/doc/numpy/reference/generated/numpy.diag.html )*\n",
      ")\n",
      "\n"
     ]
    },
    {
     "cell_type": "code",
     "collapsed": false,
     "input": [
      "### STUDENT GENERATED CELL ###\n",
      "#define the diagonal elements of the matrix of covariance\n",
      "diag_v=np.diag(v)\n",
      "#define the order of the coefficient; same as the degree of the polynomial\n",
      "x=2\n",
      "#using a for loop applied to the polynomial coefficients and diagonal elements of matrix of covariance\n",
      "#to determine error in each coefficient\n",
      "#zip() allows the input of 2 arrays in the same loop\n",
      "for i in range(len(p)):\n",
      "    print \"The order of the coefficient is\", i, \"The coefficient is\", p[i], \"and the error in the coefficient is\", np.sqrt(diag_v[i])"
     ],
     "language": "python",
     "metadata": {},
     "outputs": [
      {
       "output_type": "stream",
       "stream": "stdout",
       "text": [
        "The order of the coefficient is 0 The coefficient is 0.000106532356532 and the error in the coefficient is 1.09201314668e-05\n",
        "The order of the coefficient is 1 The coefficient is -0.0315934839235 and the error in the coefficient is 0.000953759556164\n",
        "The order of the coefficient is 2 The coefficient is 2.21148237688 and the error in the coefficient is 0.0176838708696\n"
       ]
      }
     ],
     "prompt_number": 8
    },
    {
     "cell_type": "markdown",
     "metadata": {},
     "source": [
      "## Goodness of fit (2) - calculating the residuals and $\\chi^2$"
     ]
    },
    {
     "cell_type": "markdown",
     "metadata": {},
     "source": [
      "Remember that the residuals are defined as the vertical distance between each of the data points and the fitted line. If the fitted line passes exactly through one of the data points the residual for this point is zero. We can see intuitively that if we have a \"good\" fit the residual values will be small. However, we have to remember that our experimental data points are subject to random errors and so we should expect the values of the residuals to be randomly distributed about zero. If we find that all the residuals are exactly zero we should start to suspect that our line is \"over-fitted\". This means it fits our initial data exactly, but if we take any more measurements (subject of course to the same random errors) the line will not fit them and therefore cannot be used to predict their values in advance. So for a useful parameterization of our dataset we need a fit which is \"good\" but not \"too good\". The chi-squared test is a statistical tool which can help us find the sort of fit we need."
     ]
    },
    {
     "cell_type": "markdown",
     "metadata": {},
     "source": [
      "The numpy polyfit function calculates the residuals for us. We can also obtain more data from polyfit by setting full=True (but note that this is mutually exclusive with cov=True, you can only have one or the other). Again from the np.polyfit documentation:\n",
      "\n",
      "       \"residuals, rank, singular_values, rcond : present only if full = True\n",
      "            Residuals of the least-squares fit, the effective rank of the scaled Vandermonde coefficient matrix, \n",
      "            its singular values, and the specified value of rcond. For more details, see linalg.lstsq.\"\n",
      "            \n",
      "            \n",
      "(http://docs.scipy.org/doc/numpy/reference/generated/numpy.linalg.lstsq.html#numpy.linalg.lstsq)\n",
      "\n",
      "Let's look at what this gives us:\n",
      "      "
     ]
    },
    {
     "cell_type": "code",
     "collapsed": false,
     "input": [
      "#using np.polyfit function to calculate residuals, rank, singular values and specified value rcond\n",
      "#note here residuals give the sum of the squares of the residuals\n",
      "p, residuals, rank, singular_values, rcond = np.polyfit(temp,voltage,degree,full=True)\n",
      "\n",
      "print \"The fitted polynomial coefficients are\", p\n",
      "print \"The sum of the squares of the residuals is\", residuals\n",
      "print \"The rank is\", rank\n",
      "print \"The singular values are\", singular_values\n",
      "print \"The specified value is\", rcond"
     ],
     "language": "python",
     "metadata": {},
     "outputs": [
      {
       "output_type": "stream",
       "stream": "stdout",
       "text": [
        "The fitted polynomial coefficients are [  1.06532357e-04  -3.15934839e-02   2.21148238e+00]\n",
        "The sum of the squares of the residuals is [ 0.01329027]\n",
        "The rank is 3\n",
        "The singular values are [ 1.65694442  0.49738446  0.08452163]\n",
        "The specified value is 5.77315972805e-15\n"
       ]
      }
     ],
     "prompt_number": 9
    },
    {
     "cell_type": "markdown",
     "metadata": {},
     "source": [
      "Note that here \"residuals\" gives us the *sum* of the square of the residuals, not the individual residuals themselves, which is normally what we're interested in. But it's easy to calculate them, so normally it's more useful to have cov=True than full=True.\n",
      "\n",
      "To calculate the residuals, we just remember that the residuals are the vertical distance between the data point and the fitted line. Use the cells below to calculate and print out \n",
      "* the residuals:\n",
      "* the squares of the residuals\n",
      "* the sum of the squares of the residuals\n"
     ]
    },
    {
     "cell_type": "code",
     "collapsed": false,
     "input": [
      "### STUDENT GENERATED CELL ###\n",
      "#Calculating the actual residual as the difference between the data point and the fitted line\n",
      "resid = y-voltage\n",
      "#Calculating the squares of the residuals and the sum of the squares\n",
      "sq_resid = resid**2\n",
      "sum_resid = np.sum(sq_resid)\n",
      "#Print the values\n",
      "print \"The residuals are\", resid\n",
      "print \"The squares of the residuals are\", sq_resid\n",
      "print \"The sum of the sqaures of the residuals are\", sum_resid\n",
      "\n",
      "#Check the result calculated here is the same as the value generated by full=True\n",
      "check = residuals[0]- sum_resid\n",
      "print \"check:\", check"
     ],
     "language": "python",
     "metadata": {},
     "outputs": [
      {
       "output_type": "stream",
       "stream": "stdout",
       "text": [
        "The residuals are [-0.02318926 -0.01058554 -0.01006425 -0.00662537 -0.01526891  0.01100513\n",
        "  0.02119675  0.01630596  0.02233275  0.02627712  0.02613907  0.02191861\n",
        "  0.01561573  0.00423043 -0.00123729 -0.01178742 -0.01241998 -0.03513495\n",
        " -0.02593233 -0.02481214 -0.03077436 -0.029819   -0.01694606  0.00784447\n",
        "  0.02555258  0.05617827]\n",
        "The squares of the residuals are [  5.37741556e-04   1.12053728e-04   1.01289110e-04   4.38955595e-05\n",
        "   2.33139714e-04   1.21112847e-04   4.49302301e-04   2.65884282e-04\n",
        "   4.98751600e-04   6.90486953e-04   6.83251087e-04   4.80425379e-04\n",
        "   2.43850914e-04   1.78965156e-05   1.53088500e-06   1.38943357e-04\n",
        "   1.54255793e-04   1.23446436e-03   6.72485849e-04   6.15642130e-04\n",
        "   9.47061170e-04   8.89172688e-04   2.87168820e-04   6.15356918e-05\n",
        "   6.52934156e-04   3.15599759e-03]\n",
        "The sum of the sqaures of the residuals are 0.0132902740415\n",
        "check: 2.08166817117e-17\n"
       ]
      }
     ],
     "prompt_number": 12
    },
    {
     "cell_type": "markdown",
     "metadata": {},
     "source": [
      "Check that your result for the sum of the squares of the residuals is the same as the same as the \"residuals\" generated by full=True.\n",
      "\n",
      "To take account of the random experimental errors affecting our data we can also divide the residuals by the error in the dependent variable (here the voltage is our \"y\" value), which for this experiment was estimated by the student as 0.006 V for all values (if the error is different for each measurement, we can just have a 1D-array for this instead of a single number). \n",
      "\n",
      "<div class=\"alert alert-success\">\n",
      "The student measured the error in the voltage to be 0.006 V for all the measured values.\n",
      "</div>\n",
      "\n",
      "In the cell below, repeat your calculations above, but using the residuals divided by the y-error rather than the residuals alone:\n"
     ]
    },
    {
     "cell_type": "code",
     "collapsed": false,
     "input": [
      "### STUDENT GENERATED CELL ###\n",
      "#Taking account of the random errors by dividing the residuals by the y error\n",
      "#y error is the same for each y value\n",
      "y_error = 0.006\n",
      "#new residual values by taking into account the random errors\n",
      "new_resid = resid/y_error\n",
      "n_r2 = new_resid**2\n",
      "n_sr2 = sum(n_r2)\n",
      "print \"The new residuals values are :\", new_resid, \"by taking into account the random error in voltage\"\n",
      "print \"The new squares of the residuals are\", n_r2\n",
      "print \"The new sum of the sqaures of the residuals are\", n_sr2"
     ],
     "language": "python",
     "metadata": {},
     "outputs": [
      {
       "output_type": "stream",
       "stream": "stdout",
       "text": [
        "The new residuals values are : [-3.86487586 -1.76425722 -1.67737485 -1.10422873 -2.54481888  1.83418803\n",
        "  3.53279202  2.71765975  3.72212454  4.37951974  4.35651201  3.65310134\n",
        "  2.60262108  0.70507123 -0.2062149  -1.96457061 -2.06999593 -5.85582418\n",
        " -4.32205535 -4.13535613 -5.12905983 -4.96983313 -2.82434269  1.30741148\n",
        "  4.25876272  9.36304436] by taking into account the random error in voltage\n",
        "The new squares of the residuals are [  1.49372655e+01   3.11260355e+00   2.81358638e+00   1.21932110e+00\n",
        "   6.47610316e+00   3.36424574e+00   1.24806195e+01   7.38567450e+00\n",
        "   1.38542111e+01   1.91801931e+01   1.89791969e+01   1.33451494e+01\n",
        "   6.77363650e+00   4.97125432e-01   4.25245834e-02   3.85953770e+00\n",
        "   4.28488315e+00   3.42906768e+01   1.86801625e+01   1.71011703e+01\n",
        "   2.63072547e+01   2.46992413e+01   7.97691166e+00   1.70932477e+00\n",
        "   1.81370599e+01   8.76665997e+01]\n",
        "The new sum of the sqaures of the residuals are 369.174278931\n"
       ]
      }
     ],
     "prompt_number": 13
    },
    {
     "cell_type": "markdown",
     "metadata": {},
     "source": [
      "Dividing this by the number of degrees of freedom will give us the reduced $\\chi^2$. The number of degrees of freedom is defined as the total number of datapoints minus the number of coefficients in the fitted equation.\n",
      "\n",
      "In the cell below, calculate and output the number of degrees of freedom and the reduced $\\chi^2$."
     ]
    },
    {
     "cell_type": "code",
     "collapsed": false,
     "input": [
      "### STUDENT GENERATED CELL ###\n",
      "#Calculating the number of degrees of freedom and the reduced chi squared\n",
      "print \"The number of data points is\", len(temp)\n",
      "print \"The number of coefficients in the fitted equation is\", len(p)\n",
      "#degrees of freedom = total number of datapoints - number of coefficients of fitted equation\n",
      "dof = len(temp) - len(p)\n",
      "print \"The number of degrees of freedom is\", dof\n",
      "#chi squared is the new sum of the squares of the residual values divided by the number of degrees of freedom\n",
      "chi_sq = n_sr2/dof\n",
      "print \"Chi squared values are\", chi_sq"
     ],
     "language": "python",
     "metadata": {},
     "outputs": [
      {
       "output_type": "stream",
       "stream": "stdout",
       "text": [
        "The number of data points is 26\n",
        "The number of coefficients in the fitted equation is 3\n",
        "The number of degrees of freedom is 23\n",
        "Chi squared values are 16.0510556057\n"
       ]
      }
     ],
     "prompt_number": 14
    },
    {
     "cell_type": "markdown",
     "metadata": {},
     "source": [
      "The reduced $\\chi^2$ is useful as it gives us a single number with which we can compare the goodness of fit of different polynomials.  \n",
      "\n",
      "Now we have everything in place, let's try comparing different polynomials. \n",
      "\n",
      "Write some code in the cell below that will \n",
      "* Calculate the best fit polynomials of order 1,2,3,4, and 5. For each of these:\n",
      "    * Print out the coefficients, with their order, and error\n",
      "    * Calculate and output the number of degrees of freedom and the reduced $\\chi^2$\n",
      "* Plot the fitted line for the polynomial of order 6, together with the original data, on a labelled graph\n",
      "\n",
      "(Hint: the most efficient way of doing this is with a loop structure)"
     ]
    },
    {
     "cell_type": "markdown",
     "metadata": {},
     "source": [
      "Which order of fitted polynomial would you use to parameterize the relationship between voltage and temperature for this sensor? Give the reasons for your choice in a text cell."
     ]
    },
    {
     "cell_type": "code",
     "collapsed": false,
     "input": [
      "### STUDENT GENERATED CELL ###\n",
      "#using a loop structure to generate and compare best fit polynomials of order 1-5\n",
      "degree = 1\n",
      "while degree<6:\n",
      "    #using the polyfit function to find the coefficients of the polynomial and calculate the matrix of covariance\n",
      "    p, v = np.polyfit(temp,voltage,degree,cov=True)\n",
      "    for i in range(len(p)):\n",
      "        print \"For polynomial of degree\", degree, \"The order of the coefficient is\", i, \"The coefficient is\", p[i], \"and the error in the coefficient is\", np.sqrt(np.diag(v)[i])\n",
      "        line = np.poly1d(p)\n",
      "        y=line(temp)\n",
      "        resid = y-voltage\n",
      "        #Calculating the squares of the residuals and the sum of the squares\n",
      "        sq_resid = resid**2\n",
      "        sum_resid = np.sum(sq_resid)\n",
      "        y_error = 0.006\n",
      "        #new residual values by taking into account the random errors\n",
      "        new_resid = resid/y_error\n",
      "        n_r2 = new_resid**2\n",
      "        n_sr2 = sum(n_r2)\n",
      "        dof = len(temp) - len(p)\n",
      "        chi_sq = n_sr2/dof\n",
      "    print \"The number of degrees of freedom is\", dof\n",
      "    print \"Chi squared values are\", chi_sq\n",
      "\n",
      "    \n",
      "    degree = degree + 1 #increasing in increments of 1\n",
      "\n",
      "#Forming the 6th order polynomial\n",
      "p6 = 6 # degree of polynomial we want to fit to\n",
      "#using the polyfit function to find the coefficients of the fitted polynomial\n",
      "p = np.polyfit(temp,voltage,p6)\n",
      "line = np.poly1d(p)\n",
      "#using the line function we created above to generate an array of y-values\n",
      "y_new=line(temp)\n",
      "#plot both the original data (data points) and the fitted line on the same graph\n",
      "plt.plot(temp,voltage, '-bo', label='Data points')\n",
      "plt.plot(temp,y_new, 'r', label='Fitted line')\n",
      "#Add labels and legend\n",
      "plt.xlabel(\"Temperature ($^oC$)\")\n",
      "plt.ylabel(\"Voltage (V)\")\n",
      "plt.title('Plot showing Temperature against Voltage')\n",
      "plt.legend()"
     ],
     "language": "python",
     "metadata": {},
     "outputs": [
      {
       "output_type": "stream",
       "stream": "stdout",
       "text": [
        "For polynomial of degree 1 The order of the coefficient is 0 The coefficient is -0.0225382336182 and the error in the coefficient is 0.000503879579881\n",
        "For polynomial of degree 1 The order of the coefficient is 1 The coefficient is 2.07299031339 and the error in the coefficient is 0.0242307930996\n",
        "The number of degrees of freedom is 24\n",
        "Chi squared values are 85.094372428\n",
        "For polynomial of degree 2 The order of the coefficient is 0 The coefficient is 0.000106532356532 and the error in the coefficient is 1.09201314668e-05\n",
        "For polynomial of degree 2 The order of the coefficient is 1 The coefficient is -0.0315934839235 and the error in the coefficient is 0.000953759556164\n",
        "For polynomial of degree 2 The order of the coefficient is 2 The coefficient is 2.21148237688 and the error in the coefficient is 0.0176838708696\n",
        "The number of degrees of freedom is 23\n",
        "Chi squared values are 16.0510556057\n",
        "For polynomial of degree 3 The order of the coefficient is 0 The coefficient is 2.21566962641e-06 and the error in the coefficient is 2.81071505362e-07\n",
        "For polynomial of degree 3 The order of the coefficient is 1 The coefficient is -0.000175965520835 and the error in the coefficient is 3.62594847896e-05\n",
        "For polynomial of degree 3 The order of the coefficient is 2 The coefficient is -0.0216023648771 and the error in the coefficient is 0.00135608083525\n",
        "For polynomial of degree 3 The order of the coefficient is 3 The coefficient is 2.12703434474 and the error in the coefficient is 0.0139539473574\n",
        "The number of degrees of freedom is 22\n",
        "Chi squared values are 4.08582892065\n",
        "For polynomial of degree 4 The order of the coefficient is 0 The coefficient is -5.58434702474e-08 and the error in the coefficient is 7.50776417745e-09\n",
        "For polynomial of degree 4 The order of the coefficient is 1 The coefficient is 1.17090595685e-05 and the error in the coefficient is 1.28462085636e-06\n",
        "For polynomial of degree 4 The order of the coefficient is 2 The coefficient is -0.000708831891574 and the error in the coefficient is 7.40681788175e-05\n",
        "For polynomial of degree 4 The order of the coefficient is 3 The coefficient is -0.01060359453 and the error in the coefficient is 0.00163750314025\n",
        "For polynomial of degree 4 The order of the coefficient is 4 The coefficient is 2.06459209094 and the error in the coefficient is 0.0110846512308\n",
        "The number of degrees of freedom is 21\n",
        "Chi squared values are 1.0942099574\n",
        "For polynomial of degree 5 The order of the coefficient is 0 The coefficient is -6.54415854223e-10 and the error in the coefficient is 3.7021962401e-10\n",
        "For polynomial of degree 5 The order of the coefficient is 1 The coefficient is 8.32198987751e-08 and the error in the coefficient is 7.89932228249e-08\n",
        "For polynomial of degree 5 The order of the coefficient is 2 The coefficient is 9.83183717745e-07 and the error in the coefficient is 6.18899718652e-06\n",
        "For polynomial of degree 5 The order of the coefficient is 3 The coefficient is -0.000346015561794 and the error in the coefficient is 0.000216941710752\n",
        "For polynomial of degree 5 The order of the coefficient is 4 The coefficient is -0.0157003121593 and the error in the coefficient is 0.00327496582075\n",
        "For polynomial of degree 5 The order of the coefficient is 5 The coefficient is 2.086284419 and the error in the coefficient is 0.0161589498764\n",
        "The number of degrees of freedom is 20\n",
        "Chi squared values are 0.978982237061\n"
       ]
      },
      {
       "metadata": {},
       "output_type": "pyout",
       "prompt_number": 15,
       "text": [
        "<matplotlib.legend.Legend at 0xb268908>"
       ]
      },
      {
       "metadata": {},
       "output_type": "display_data",
       "png": "[encoded data removed]",
       "text": [
        "<matplotlib.figure.Figure at 0xb444940>"
       ]
      }
     ],
     "prompt_number": 15
    },
    {
     "cell_type": "markdown",
     "metadata": {},
     "source": [
      "I would choose a degree that gives a 'good' fit as opposed to 'over-fitted', hence I would something less than degree 6, but greater than degree 2, such as 4."
     ]
    },
    {
     "cell_type": "markdown",
     "metadata": {},
     "source": [
      "## Fitting the residuals to a Gaussian"
     ]
    },
    {
     "cell_type": "markdown",
     "metadata": {},
     "source": [
      "It would be interesting to have a closer look at the residuals. In theory, they should follow a Gaussian (normal) distribution. Do they?\n",
      "\n",
      "Fit the residuals to a Gaussian using scipy.stats (following the same process as we did in session 2), and plot them as a histogram together with the fitted Gaussian."
     ]
    },
    {
     "cell_type": "markdown",
     "metadata": {},
     "source": [
      "Do you think that these residuals match the expected distribution?\n",
      "What relation do you notice between the width of the Gaussian and the experimental error on the voltage reading estimated by the student who did this experiment? Explain in a text cell."
     ]
    },
    {
     "cell_type": "code",
     "collapsed": false,
     "input": [
      "### STUDENT GENERATED CELL ###\n",
      "#import necessary modules\n",
      "import scipy.stats as stats\n",
      "#fit the data and calculate the mean and standard deviation\n",
      "x0, sigma = stats.norm.fit(resid)\n",
      "print \"Fitted Gaussian: \\n Mean value \", x0, \"with standard deviation\", sigma\n",
      "#plot the histogram and gaussian curve with relevant plot parameters\n",
      "#Generate an array of x-values for the fitted gaussian curve\n",
      "x_new=np.linspace(-0.02, 0.025, 1000)\n",
      "gaussian = stats.norm.pdf(x_new,x0,sigma)\n",
      "plt.plot(x_new, gaussian, 'b-', label=\"Gaussian of corrected residuals\")\n",
      "plt.hist(resid, bins=10, normed=True, alpha=0.25, label=\"Histogram of corrected residuals\")\n",
      "plt.legend()\n",
      "plt.xlabel('Measured value')\n",
      "plt.ylabel('Frequency')\n",
      "title_label=(r'Line fitted with Gaussian $x_0$ = {0:3.2e}, $\\sigma$ = {1:3.2e}'.format(x0,sigma))\n",
      "plt.title(title_label)"
     ],
     "language": "python",
     "metadata": {},
     "outputs": [
      {
       "output_type": "stream",
       "stream": "stdout",
       "text": [
        "Fitted Gaussian: \n",
        " Mean value  6.31973106325e-16 with standard deviation 0.00520675305099\n"
       ]
      },
      {
       "metadata": {},
       "output_type": "pyout",
       "prompt_number": 18,
       "text": [
        "<matplotlib.text.Text at 0xcdf7b70>"
       ]
      },
      {
       "metadata": {},
       "output_type": "display_data",
       "png": "[encoded data removed]",
       "text": [
        "<matplotlib.figure.Figure at 0xca17a58>"
       ]
      }
     ],
     "prompt_number": 18
    },
    {
     "cell_type": "markdown",
     "metadata": {},
     "source": [
      "The residuals match the expected distribution of the line of power 5, as the standard deviation is 0.005 which is just under the experimental error in the voltage."
     ]
    },
    {
     "cell_type": "heading",
     "level": 3,
     "metadata": {},
     "source": [
      "What's coming next"
     ]
    },
    {
     "cell_type": "markdown",
     "metadata": {},
     "source": [
      "In this session we've seen how to fit data in a general case when we don't already know from a theoretical model what function we want to fit to. In the next session, we'll be looking at how to to use Python to do a fit when we do have a known function."
     ]
    },
    {
     "cell_type": "code",
     "collapsed": false,
     "input": [],
     "language": "python",
     "metadata": {},
     "outputs": []
    }
   ],
   "metadata": {}
  }
 ]
}