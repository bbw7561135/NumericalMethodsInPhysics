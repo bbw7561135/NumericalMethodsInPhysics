{
 "metadata": {
  "name": "",
  "signature": "sha256:89efe2b546917b21530d424f44f2b9fd3d27a49d7e8a66a08cf32b88d54d9cd6"
 },
 "nbformat": 3,
 "nbformat_minor": 0,
 "worksheets": [
  {
   "cells": [
    {
     "cell_type": "markdown",
     "metadata": {},
     "source": [
      "# Session 4: Fitting to arbitrary functions"
     ]
    },
    {
     "cell_type": "markdown",
     "metadata": {},
     "source": [
      "<div class=\"alert alert-success\"> <p>*  **Intended learning outcomes:** * </p>\n",
      "By the end of this session, you should be able to:\n",
      "<ul>\n",
      "<li> fit data to any arbitrary function using scipy.optimize.curve_fit; </li>\n",
      "<li> quantitatively evaluate the goodness of fit;  </li>\n",
      "<li> reach physical conclusions based on these results. </li>\n",
      "</div>"
     ]
    },
    {
     "cell_type": "markdown",
     "metadata": {},
     "source": [
      "We've already seen how to fit histograms to a Gaussian, and how to use a polynomial to fit a set of data. The last thing we're going to do in this Data Analysis part of the course is to see how to perform a fit to an arbitrary function. "
     ]
    },
    {
     "cell_type": "markdown",
     "metadata": {},
     "source": [
      "In these examples, we'll be looking at whether a Lorentzian or Gaussian functions provide a better fit to some optical lineshape data. However, you can use the same method to fit *any* function, provided you can write a suitable Python function to describe your target \"fit\" function."
     ]
    },
    {
     "cell_type": "heading",
     "level": 3,
     "metadata": {},
     "source": [
      "Context for this example"
     ]
    },
    {
     "cell_type": "markdown",
     "metadata": {},
     "source": [
      "The data we'll use for this session is taken from the Lab 3 Zeeman effect experiment, which some of you will do yourselves in Lab 3. \n",
      "\n",
      "The Zeeman effect occurs when a spectral line is split into different components by a magnetic field. The physics of the Zeeman effect will be covered in detail in PHAS2224 \"Atomic and Molecular Physics\".\n",
      "\n",
      "The Lab 3 experiment examines how the lines in the emission spectrum of a mercury discharge lamp split under a magnetic field. The student records the spectrum using a CCD camera, which yields data in the form of recorded intensity (in counts per second) vs pixel position (in pixels). \n",
      "\n",
      "In general the most important thing to measure in the Zeeman effect experiment is the *position* of the split lines. However, here we're not going to be considering the *positions* of the spectral lines, instead we're going to be looking at the *lineshapes*. Rather than a spectral line with a single energy, the line is broadened into a wider peak by various physical effects. For example, the uncertainty principle leads to broadening which has a Lorentzian form, while there will also be thermal broadening effects, which are Gaussian in nature (there are also several other sources of broadening, with different effects). In theory, for this experiment, Lorentzian broadening is expected to dominate.\n",
      "\n",
      "In this task we will look at an experimental spectral line recorded by a student in the Lab 3 experiment, fit it to both a Gaussian and Lorentzian, and determine which provides a better fit."
     ]
    },
    {
     "cell_type": "heading",
     "level": 3,
     "metadata": {},
     "source": [
      "Getting started with the code"
     ]
    },
    {
     "cell_type": "markdown",
     "metadata": {},
     "source": [
      "First, we'll import the modules we will need. The new function we import in the cell below comes from the scipy.optimize library - more on this later, when we come to use it. "
     ]
    },
    {
     "cell_type": "code",
     "collapsed": false,
     "input": [
      "import numpy as np\n",
      "import matplotlib.pyplot as plt\n",
      "from scipy.optimize import curve_fit # we're importing just this one function from scipy.optimize\n",
      "%matplotlib inline"
     ],
     "language": "python",
     "metadata": {},
     "outputs": [],
     "prompt_number": 1
    },
    {
     "cell_type": "markdown",
     "metadata": {},
     "source": [
      "Now we can import the csv (Comma Separated Value) file with the data the student collected, and plot it. You will need to download this file from Moodle, and as usual, put it in the same directory as this notebook."
     ]
    },
    {
     "cell_type": "code",
     "collapsed": false,
     "input": [
      "xdata,ydata = np.loadtxt('Zeeman_data.csv',delimiter=\",\",unpack=True)\n",
      "plt.plot(xdata,ydata, 'bo')\n",
      "plt.xlabel(\"Pixel position\")\n",
      "plt.ylabel(\"Pixel value (counts/second)\")\n",
      "plt.title(\"Data from Zeeman effect experiment\")"
     ],
     "language": "python",
     "metadata": {},
     "outputs": [
      {
       "metadata": {},
       "output_type": "pyout",
       "prompt_number": 2,
       "text": [
        "<matplotlib.text.Text at 0xaa62fd0>"
       ]
      },
      {
       "metadata": {},
       "output_type": "display_data",
       "png": "[encoded data removed]",
       "text": [
        "<matplotlib.figure.Figure at 0xa9b1198>"
       ]
      }
     ],
     "prompt_number": 2
    },
    {
     "cell_type": "markdown",
     "metadata": {},
     "source": [
      "We can see that we have a single peak with a constant background level. It looks feasible to attempt fitting this to a Gaussian.\n",
      "\n",
      "\n",
      "In order to use curve_fit to fit this to a Gaussian, we need to write a \"target\" function to fit to, which in this case will be\n",
      "\n",
      "\n",
      "$$\n",
      "f(x) = y_0 + h \\exp \\left(\\frac{-(x-x_0)^2}{2 \\sigma^2}\\right)\n",
      "$$\n",
      "\n",
      "(This is a slightly different definition than the one we used when we were fitting histograms to Gaussians in Session 2. Can you see why?)\n",
      "\n",
      "The parameters for our Gaussian fit will be the mean value (x0), the standard deviation (sigma), the background value y0 and the peak height, h. Here is a function that will do exactly this."
     ]
    },
    {
     "cell_type": "code",
     "collapsed": false,
     "input": [
      "#defining a function\n",
      "def gaussian(x,x0,sigma, y0, h):\n",
      "    '''Returns a 1D array of function values for \n",
      "    - input array of x-values: x\n",
      "    - mean value of distribution: x0\n",
      "    - standard deviation of distribution: sigma\n",
      "    - background value y0\n",
      "    - peak height, h (measured from background level y0'''\n",
      "    gauss = h * np.exp(-(x-x0)**2/(2*sigma**2)) + y0 # the gaussian equation itself\n",
      "    return gauss"
     ],
     "language": "python",
     "metadata": {},
     "outputs": [],
     "prompt_number": 3
    },
    {
     "cell_type": "markdown",
     "metadata": {},
     "source": [
      "The three parameters, x0, y0 and sigma, are (as yet) unknown. To find them, we use the scipy.optimize.curve_fit function. The full documentation for this is here: http://docs.scipy.org/doc/scipy/reference/generated/scipy.optimize.curve_fit.html#scipy.optimize.curve_fit\n",
      "\n",
      "We're going to do this in the simplest way possible for the moment, by just sending curve_fit the target function (our \"gaussian\" function), the independent variable (xdata) and the dependent variable (ydata). We can also, optionally, choose to send an initial guess of the parameters, as well as weightings for each of the ydata data points, but for the moment we won't do that.\n",
      "\n",
      "The curve_fit routine returns two arrays. \n",
      " * The first of these is an array of the fitted parameters - in our case this array will have two elements, as we have two parameters, x0 and sigma. \n",
      " * The second is the matrix of covariance - an indication of the goodness of fit. We covered this in Session 3 when we were doing polynomial fitting.\n",
      " \n",
      " Let's do this, and see what results we get back:"
     ]
    },
    {
     "cell_type": "code",
     "collapsed": false,
     "input": [
      "#popt: Optimized parameters\n",
      "#pcov: matrix of covariance.\n",
      "popt,pcov = curve_fit(gaussian,xdata,ydata)\n",
      "\n",
      "print \"popt :\\n\", popt\n",
      "print \"pcov :\\n\", pcov"
     ],
     "language": "python",
     "metadata": {},
     "outputs": [
      {
       "output_type": "stream",
       "stream": "stdout",
       "text": [
        "popt :\n",
        "[ 1.          1.          5.30499999  1.        ]\n",
        "pcov :\n",
        "[[ inf  inf  inf  inf]\n",
        " [ inf  inf  inf  inf]\n",
        " [ inf  inf  inf  inf]\n",
        " [ inf  inf  inf  inf]]\n"
       ]
      }
     ],
     "prompt_number": 4
    },
    {
     "cell_type": "markdown",
     "metadata": {},
     "source": [
      "We can see that this hasn't worked so well - curve_fit hasn't been able to find a fit to the data.\n",
      "\n",
      "Instead, we'll try to make life easier for curve_fit by giving an initial guess for the parameters. From looking at the plot of the data, we can see that the peak is at around $x=75$, and the background around $y=3.5$. We'll try a value of 1 for $\\sigma$. These values need to be given in the form of a python list of numbers, in the same order as parameters are given to our \"gaussian\" function. Remember - in Python we use `[` square brackets `]` to define a list, with the elements separated by commas."
     ]
    },
    {
     "cell_type": "code",
     "collapsed": false,
     "input": [
      "#Square brackets to define a list with the elements separated by commas\n",
      "guess = [75,10,3.5,18] # list of initial guess parameters\n",
      "\n",
      "type(guess) # what type of object does the variable \"guess\" represent?"
     ],
     "language": "python",
     "metadata": {},
     "outputs": [
      {
       "metadata": {},
       "output_type": "pyout",
       "prompt_number": 5,
       "text": [
        "list"
       ]
      }
     ],
     "prompt_number": 5
    },
    {
     "cell_type": "markdown",
     "metadata": {},
     "source": [
      "Now we can retry the fit:"
     ]
    },
    {
     "cell_type": "code",
     "collapsed": false,
     "input": [
      "popt,pcov = curve_fit(gaussian,xdata,ydata,p0=guess)\n",
      "print \"popt :\\n\", popt\n",
      "print \"pcov :\\n\", pcov"
     ],
     "language": "python",
     "metadata": {},
     "outputs": [
      {
       "output_type": "stream",
       "stream": "stdout",
       "text": [
        "popt :\n",
        "[ 72.50930905   3.01525268   3.85742572  13.40680376]\n",
        "pcov :\n",
        "[[  2.02507205e-03  -3.77758184e-10   4.14321753e-12   1.66043777e-09]\n",
        " [ -3.77758184e-10   2.22561784e-03  -6.30519920e-04  -4.05620885e-03]\n",
        " [  4.14321753e-12  -6.30519920e-04   1.98236679e-03  -1.40174499e-03]\n",
        " [  1.66043777e-09  -4.05620885e-03  -1.40174499e-03   3.10175058e-02]]\n"
       ]
      }
     ],
     "prompt_number": 6
    },
    {
     "cell_type": "markdown",
     "metadata": {},
     "source": [
      "This has worked (or it should have done)! We can use the information from the matrix of covariance to calculate the error on each parameter, just as we did in the previous session for the polynomial coefficients.  \n",
      "\n",
      "In the cell below, you should:\n",
      "\n",
      "* calculate the errors on the parameters\n",
      "* output each parameter with its error and an appropriate text string\n",
      "* plot the original data and the fitted line on a single, appropriately labelled graph"
     ]
    },
    {
     "cell_type": "code",
     "collapsed": false,
     "input": [
      "### STUDENT COMPLETED CELL ###\n",
      "#Calculating the errors in each parameter x, x0, sigma, y0, h\n",
      "#Find the diagonal elements of the matrix of covariance\n",
      "diag = np.diag(pcov)\n",
      "#errors are the square rt of the diagonal elements\n",
      "error_para=np.sqrt(diag)\n",
      "#output each paramenter with its error by generating a list with text strings\n",
      "a = ['x0', 'sigma', 'y0', 'h']\n",
      "for i in range(len(a)):\n",
      "    print a[i], \"is\", popt[i], \"the error in\", a[i], \"is\", error_para[i]\n",
      "    \n",
      "#plotting the original data with labels\n",
      "plt.plot(xdata,ydata, 'bo')\n",
      "plt.xlabel(\"Pixel position\")\n",
      "plt.ylabel(\"Pixel value (counts/second)\")\n",
      "plt.title(\"Data from Zeeman effect experiment\")\n",
      "\n",
      "#Generate an array of new x values for the fitted Gaussian\n",
      "x_new=np.linspace(40,110,1000)\n",
      "#define parameters as elements of the diagonal matrix\n",
      "x0 = popt[0]\n",
      "sigma = popt[1]\n",
      "y0 = popt[2]\n",
      "h = popt[3]\n",
      "\n",
      "#Recall gauss function as defined earlier\n",
      "gauss = gaussian(x_new,x0,sigma, y0, h)\n",
      "#plotting the fitted gaussian with labels\n",
      "plt.plot(x_new, gauss, 'r-', label=\"Fitted Gaussian\")"
     ],
     "language": "python",
     "metadata": {},
     "outputs": [
      {
       "output_type": "stream",
       "stream": "stdout",
       "text": [
        "x0 is 72.5093090483 the error in x0 is 0.0450008005788\n",
        "sigma is 3.015252675 the error in sigma is 0.0471764543221\n",
        "y0 is 3.85742572033 the error in y0 is 0.0445237778376\n",
        "h is 13.4068037567 the error in h is 0.176117874705\n"
       ]
      },
      {
       "metadata": {},
       "output_type": "pyout",
       "prompt_number": 7,
       "text": [
        "[<matplotlib.lines.Line2D at 0x145ef9b0>]"
       ]
      },
      {
       "metadata": {},
       "output_type": "display_data",
       "png": "[encoded data removed]",
       "text": [
        "<matplotlib.figure.Figure at 0xaa19cf8>"
       ]
      }
     ],
     "prompt_number": 7
    },
    {
     "cell_type": "markdown",
     "metadata": {},
     "source": [
      "If you've done this correctly, you should obtain a good fit to the data.\n",
      "\n",
      "In theory we'd expect a Lorentzian to produce a better fit for this data. Now you're going to try this out and see if this is what we find for this particular data set!\n",
      "\n",
      "The appropriate form for this is \n",
      "$$\n",
      "f(x) = y_0 + \\frac{h}{1 + ((x - x_0)/b)^2}\n",
      "$$\n",
      "where $y_0$ is the background level, $x_0$ is the peak position and $b$ is the half-width at half-maximum (HWHM) of the peak.\n",
      "\n",
      "First, write a properly formatted python function, similar in form to the \"gaussian\" function above, that will return a Lorentzian function for these parameters."
     ]
    },
    {
     "cell_type": "code",
     "collapsed": false,
     "input": [
      "### STUDENT COMPLETED CELL ###\n",
      "#defining the Lorentzian function\n",
      "def lorentzian(x,x0,b,y0,h):\n",
      "    '''Returns a 1D array of function values for \n",
      "    - input array of x-values: x\n",
      "    - the peak position: x0\n",
      "    - background value y0\n",
      "    - half-width at half-maximum of the peak: b'''\n",
      "    lorentz = h / (1+(((x-x0)/b)**2)) + y0 # the lorentzian equation itself\n",
      "    return lorentz"
     ],
     "language": "python",
     "metadata": {},
     "outputs": [],
     "prompt_number": 32
    },
    {
     "cell_type": "markdown",
     "metadata": {},
     "source": [
      "Now provide an initial guess for these parameters, and use curve_fit to calculate the best Lorentzian fit for this data. Output the calculated parameters and the matrix of covariance, just like we did for the Gaussian fit."
     ]
    },
    {
     "cell_type": "code",
     "collapsed": false,
     "input": [
      "### STUDENT COMPLETED CELL ###\n",
      "\n",
      "#popt: Optimized parameters\n",
      "#pcov: matrix of covariance.\n",
      "#Square brackets to define a list with the elements separated by commas\n",
      "guess2 = [75,10,3.5,18] # list of initial guess parameters\n",
      "#now retry the fit\n",
      "popt2,pcov2 = curve_fit(lorentzian,xdata,ydata,p0=guess2)\n",
      "print \"pop2 :\\n\", popt2\n",
      "print \"pcov2 :\\n (matrix of covariance)\", pcov2\n"
     ],
     "language": "python",
     "metadata": {},
     "outputs": [
      {
       "output_type": "stream",
       "stream": "stdout",
       "text": [
        "pop2 :\n",
        "[ 72.48067191   3.08300306   3.36145606  14.88518797]\n",
        "pcov2 :\n",
        " (matrix of covariance) [[  3.41521150e-03   1.97141158e-06  -3.26708389e-06   1.19660362e-06]\n",
        " [  1.97141158e-06   9.19524601e-03  -3.39309592e-03  -1.57727195e-02]\n",
        " [ -3.26708389e-06  -3.39309592e-03   4.90691605e-03  -1.07969812e-03]\n",
        " [  1.19660362e-06  -1.57727195e-02  -1.07969812e-03   7.99005976e-02]]\n"
       ]
      }
     ],
     "prompt_number": 40
    },
    {
     "cell_type": "markdown",
     "metadata": {},
     "source": [
      "Now use these results to\n",
      "* calculate the error on each parameter\n",
      "* output each parameter with its error (and an appropriate text string)\n",
      "* plot the data, the fitted Gaussian and the fitted Lorentzian, all on the same labelled graph."
     ]
    },
    {
     "cell_type": "code",
     "collapsed": false,
     "input": [
      "### STUDENT COMPLETED CELL ###\n",
      "#Calculating the errors in each parameter x0, b, y0, h\n",
      "#Find the diagonal elements of the matrix of covariance\n",
      "diag2 = np.diag(pcov2)\n",
      "#errors are the square rt of the diagonal elements\n",
      "error_para2=np.sqrt(diag2)\n",
      "#output each paramenter with its error by generating a list with text strings\n",
      "a2 = ['x02', 'b2', 'y02', 'h2']\n",
      "for i in range(len(a2)):\n",
      "    print a2[i], \"is\", popt2[i], \"the error in\", a2[i], \"is\", error_para2[i]\n",
      "\n",
      "#define parameters as elements of the diagonal matrix for lorentzian\n",
      "x02 = popt2[0]\n",
      "b2 = popt2[1]\n",
      "y02 = popt2[2]\n",
      "h2 = popt2[3]\n",
      "#define parameters as elements of the diagonal matrix for gaussian\n",
      "x0 = popt[0]\n",
      "sigma = popt[1]\n",
      "y0 = popt[2]\n",
      "h = popt[3]\n",
      "\n",
      "#Generate an array of new x-values for the lorentzian\n",
      "x=np.linspace(40,110,70)\n",
      "\n",
      "#Recall gauss and lorentz functions as defined earlier\n",
      "gauss = gaussian(x,x0,sigma, y0, h)\n",
      "lorentz = lorentzian(x, x0,b2,y0,h)\n",
      "\n",
      "#plotting the fitted curves and original data with labels\n",
      "plt.plot(x, lorentz, 'g-', label=\"Fitted Lorentzian\")\n",
      "plt.plot(x, gauss, 'r-', label=\"Fitted Gaussian\")\n",
      "#plotting the original data with labels\n",
      "plt.plot(xdata,ydata, 'bo', label=\"Data points\")\n",
      "plt.xlabel(\"Pixel position\")\n",
      "plt.ylabel(\"Pixel value (counts/second)\")\n",
      "plt.title(\"Data from Zeeman effect experiment\")\n",
      "plt.legend()"
     ],
     "language": "python",
     "metadata": {},
     "outputs": [
      {
       "output_type": "stream",
       "stream": "stdout",
       "text": [
        "x02 is 72.4806719066 the error in x02 is 0.0584398109213\n",
        "b2 is 3.08300305509 the error in b2 is 0.0958918453569\n",
        "y02 is 3.36145606286 the error in y02 is 0.0700493829072\n",
        "h2 is 14.8851879688 the error in h2 is 0.282666937517\n"
       ]
      },
      {
       "metadata": {},
       "output_type": "pyout",
       "prompt_number": 47,
       "text": [
        "<matplotlib.legend.Legend at 0x1602a4e0>"
       ]
      },
      {
       "metadata": {},
       "output_type": "display_data",
       "png": "[encoded data removed]",
       "text": [
        "<matplotlib.figure.Figure at 0x15f05e48>"
       ]
      }
     ],
     "prompt_number": 47
    },
    {
     "cell_type": "markdown",
     "metadata": {},
     "source": [
      "### Evaluating the goodness of fit\n",
      "\n",
      "So now we have two potential fits to our data. Looking at them, it's hard to tell which one provides the better fit. We can do this quantitatively by calculating $\\chi^2$ for each fit, in the same way as we did in the previous session. \n",
      "\n",
      "We'll also need to know the y-error on the data points for this - which for this experiment were estimated to be $\\pm 1$ counts/second."
     ]
    },
    {
     "cell_type": "markdown",
     "metadata": {},
     "source": [
      "#### 1. Gaussian.\n",
      "\n",
      "First we'll look at the Gaussian fit. In the cell below, \n",
      "* calculate the residuals divided by the y-error\n",
      "* calculate the number of degrees of freedom\n",
      "* hence calculate $\\chi^2$ for the Gaussian fit.\n",
      "(Refer back to the previous session if you need a reminder of any of the definitions)\n"
     ]
    },
    {
     "cell_type": "code",
     "collapsed": false,
     "input": [
      "### STUDENT COMPLETED CELL ###\n",
      "#Gaussian fit\n",
      "#Calculating the residuals taking into account the y error\n",
      "y_error = 1\n",
      "residual = (gauss-ydata)/y_error\n",
      "r2 = residual**2\n",
      "sum_r2 = sum(residual**2)\n",
      "#degrees of freedom = total number of datapoints - number of coefficients of fitted equation\n",
      "dof = len(ydata) - len(popt)\n",
      "chi_sq = sum_r2/dof\n",
      "print \"Chi squared for the Gaussian fit is:\", chi_sq"
     ],
     "language": "python",
     "metadata": {},
     "outputs": [
      {
       "output_type": "stream",
       "stream": "stdout",
       "text": [
        "Chi squared for the Gaussian fit is: 0.341562183418\n"
       ]
      }
     ],
     "prompt_number": 52
    },
    {
     "cell_type": "markdown",
     "metadata": {},
     "source": [
      "#### 2. Lorentzian\n",
      "\n",
      "Now do the same for the Lorentzian fit, in the cell below."
     ]
    },
    {
     "cell_type": "code",
     "collapsed": false,
     "input": [
      "### STUDENT COMPLETED CELL ###\n",
      "#Lorentzian fit\n",
      "#Calculating the residuals taking into account the y error\n",
      "y_error = 1\n",
      "residual2 = (lorentz-ydata)/y_error\n",
      "r22 = residual2**2\n",
      "sum_r22 = sum(residual2**2)\n",
      "#degrees of freedom = total number of datapoints - number of coefficients of fitted equation\n",
      "dof2 = len(ydata) - len(popt2)\n",
      "chi_sq2 = sum_r22/dof2\n",
      "print \"Chi squared for the Lorentzian fit is:\", chi_sq2"
     ],
     "language": "python",
     "metadata": {},
     "outputs": [
      {
       "output_type": "stream",
       "stream": "stdout",
       "text": [
        "Chi squared for the Lorentzian fit is: 0.636539164922\n"
       ]
      }
     ],
     "prompt_number": 53
    },
    {
     "cell_type": "markdown",
     "metadata": {},
     "source": [
      "Are these the results you'd expect? Discuss briefly in a text cell."
     ]
    },
    {
     "cell_type": "markdown",
     "metadata": {},
     "source": [
      "### STUDENT COMPLETED CELL ###\n",
      "Chi sqaured value for the Gaussian fit is smaller, hence the Gaussian curve is a better fit to the data points than the Lorentzian fit. This is as expected, as the Gaussian fit can be seen by inspection to fit the data points better than the Lorentzian."
     ]
    },
    {
     "cell_type": "markdown",
     "metadata": {},
     "source": [
      "### Analysing the residuals\n",
      "\n",
      "Another way of verifying the validity of our fits is to check the distribution of the residuals, and see if they follow a normal (Gaussian) distribution. Again, follow the same procedure as we did in the previous session and check the distribution of the calculated residuals for both fits. You can copy, paste and edit code from Session 3 if you want, rather than writing this from scratch. Use a text cell to discuss what you conclude from these results."
     ]
    },
    {
     "cell_type": "code",
     "collapsed": false,
     "input": [
      "### STUDENT COMPLETED CELL ###\n",
      "#For Gaussian Fit\n",
      "#import necessary modules\n",
      "import scipy.stats as stats\n",
      "#fit the data and calculate the mean and standard deviation\n",
      "x03, sigma3 = stats.norm.fit(residual)\n",
      "print \"Fitted Gaussian: \\n Mean value \", x03, \"with standard deviation\", sigma3\n",
      "#plot the histogram and gaussian curve with relevant plot parameters\n",
      "#Generate an array of x-values for the fitted gaussian curve\n",
      "x_new=np.linspace(-3, 3, 1000)\n",
      "gaussian3 = stats.norm.pdf(x_new,x03,sigma3)\n",
      "plt.plot(x_new, gaussian3, 'b-', label=\"Gaussian of corrected residuals\")\n",
      "plt.hist(residual, bins=20, normed=True, alpha=0.25, label=\"Histogram of corrected residuals\")\n",
      "plt.legend()\n",
      "plt.xlabel('Measured value')\n",
      "plt.ylabel('Frequency')\n",
      "title_label=(r'Line fitted with Gaussian $x_0$ = {0:3.2e}, $\\sigma$ = {1:3.2e}'.format(x03,sigma3))\n",
      "plt.title(title_label)"
     ],
     "language": "python",
     "metadata": {},
     "outputs": [
      {
       "output_type": "stream",
       "stream": "stdout",
       "text": [
        "Fitted Gaussian: \n",
        " Mean value  -0.020679632643 with standard deviation 0.567112596545\n"
       ]
      },
      {
       "metadata": {},
       "output_type": "pyout",
       "prompt_number": 63,
       "text": [
        "<matplotlib.text.Text at 0x180e0e48>"
       ]
      },
      {
       "metadata": {},
       "output_type": "display_data",
       "png": "[encoded data removed]",
       "text": [
        "<matplotlib.figure.Figure at 0x17ee1128>"
       ]
      }
     ],
     "prompt_number": 63
    },
    {
     "cell_type": "code",
     "collapsed": false,
     "input": [
      "### STUDENT COMPLETED CELL ###\n",
      "#For Lorentzian Fit\n",
      "#import necessary modules\n",
      "import scipy.stats as stats\n",
      "#fit the data and calculate the mean and standard deviation\n",
      "x04, sigma4 = stats.norm.fit(residual2)\n",
      "print \"Fitted Lorentzian: \\n Mean value \", x04, \"with standard deviation\", sigma4\n",
      "#plot the histogram and gaussian curve with relevant plot parameters\n",
      "#Generate an array of x-values for the fitted gaussian curve\n",
      "x_new2=np.linspace(-4, 4, 1000)\n",
      "lorentzian3 = stats.norm.pdf(x_new2,x04,sigma4)\n",
      "plt.plot(x_new2, lorentzian3, 'b-', label=\"Lorentzian of corrected residuals\")\n",
      "plt.hist(residual2, bins=20, normed=True, alpha=0.25, label=\"Histogram of corrected residuals\")\n",
      "plt.legend()\n",
      "plt.xlabel('Measured value')\n",
      "plt.ylabel('Frequency')\n",
      "title_label=(r'Line fitted with Gaussian $x_0$ = {0:3.2e}, $\\sigma$ = {1:3.2e}'.format(x04,sigma4))\n",
      "plt.title(title_label)"
     ],
     "language": "python",
     "metadata": {},
     "outputs": [
      {
       "output_type": "stream",
       "stream": "stdout",
       "text": [
        "Fitted Lorentzian: \n",
        " Mean value  0.279649348222 with standard deviation 0.722469196847\n"
       ]
      },
      {
       "metadata": {},
       "output_type": "pyout",
       "prompt_number": 65,
       "text": [
        "<matplotlib.text.Text at 0x186ee710>"
       ]
      },
      {
       "metadata": {},
       "output_type": "display_data",
       "png": "[encoded data removed]",
       "text": [
        "<matplotlib.figure.Figure at 0x18518668>"
       ]
      }
     ],
     "prompt_number": 65
    },
    {
     "cell_type": "code",
     "collapsed": false,
     "input": [],
     "language": "python",
     "metadata": {},
     "outputs": []
    }
   ],
   "metadata": {}
  }
 ]
}